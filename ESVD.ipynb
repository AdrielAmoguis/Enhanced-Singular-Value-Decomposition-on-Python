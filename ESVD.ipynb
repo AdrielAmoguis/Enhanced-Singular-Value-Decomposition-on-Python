{
 "cells": [
  {
   "cell_type": "markdown",
   "id": "26f9e28c-2aa2-4522-8b83-089b894e3059",
   "metadata": {},
   "source": [
    "# Enhanced Singular Value Decomposition (ESVD)\n",
    "Based on a [journal article](http://ieeexplore.ieee.org/document/8119909/) from IEEE."
   ]
  },
  {
   "cell_type": "code",
   "execution_count": 1,
   "id": "755940f5-84cd-49f8-b7e2-efe8cd314f88",
   "metadata": {},
   "outputs": [],
   "source": [
    "# Import Modules\n",
    "import numpy as np\n",
    "import pandas as pd\n",
    "from matplotlib import pyplot as plt\n",
    "import os\n",
    "from sklearn.model_selection import train_test_split as tts\n",
    "import scipy as sp\n",
    "\n",
    "mat_print = lambda mat, name : print(mat, \"\\t <-----\", name)\n",
    "\n",
    "from sklearn.metrics import mean_squared_error as mse\n",
    "rmse = lambda truth, pred : mse(truth, pred, squared=False)\n",
    "\n",
    "%load_ext autoreload\n",
    "%autoreload 2"
   ]
  },
  {
   "cell_type": "code",
   "execution_count": 2,
   "id": "1978eecc-a79c-49f9-beab-68bd7d4abba1",
   "metadata": {},
   "outputs": [
    {
     "data": {
      "text/plain": [
       "['v_weights100k-3.npy',\n",
       " 'v_weights100k-2.npy',\n",
       " 'u.item',\n",
       " 'u3.test',\n",
       " 'train_loss_100k.npy',\n",
       " 'u1.base',\n",
       " 'v_weights100k-1.npy',\n",
       " 'u.info',\n",
       " 'v_weights100k-4.npy',\n",
       " 'u2.test',\n",
       " 'u5.test',\n",
       " 'u.genre',\n",
       " 'v_weights100k.npy',\n",
       " 'u_weights100k-4.npy',\n",
       " 'ub.test',\n",
       " 'u_weights100k-3.npy',\n",
       " 'ua.base',\n",
       " 'u_weights100k-2.npy',\n",
       " 'u.data',\n",
       " 'u_weights100k-1.npy',\n",
       " 'README',\n",
       " 'u4.test',\n",
       " 'train_loss_100k-2.npy',\n",
       " 'u5.base',\n",
       " 'train_loss_100k-3.npy',\n",
       " 'train_loss_100k-1.npy',\n",
       " 'ub.base',\n",
       " 'train_loss_100k-4.npy',\n",
       " 'ua.test',\n",
       " 'u4.base',\n",
       " 'u.user',\n",
       " 'allbut.pl',\n",
       " 'u3.base',\n",
       " 'u1.test',\n",
       " 'mku.sh',\n",
       " 'u_weights100k.npy',\n",
       " 'u2.base',\n",
       " 'utility_matrix.npy',\n",
       " 'u.occupation']"
      ]
     },
     "execution_count": 2,
     "metadata": {},
     "output_type": "execute_result"
    }
   ],
   "source": [
    "# Prepare dataset\n",
    "\n",
    "# Uncomment this to download dataset\n",
    "# !wget https://files.grouplens.org/datasets/movielens/ml-100k.zip\n",
    "# !unzip ml-100k.zip\n",
    "# !mv ml-100k ML-100K\n",
    "# !rm ml-100k.zip\n",
    "\n",
    "os.chdir(os.path.join(os.getcwd(), \"ML-100K\"))\n",
    "os.listdir()"
   ]
  },
  {
   "cell_type": "code",
   "execution_count": 3,
   "id": "f89606f0-7f68-41d0-add9-cb7c7f576786",
   "metadata": {},
   "outputs": [
    {
     "data": {
      "text/html": [
       "<div>\n",
       "<style scoped>\n",
       "    .dataframe tbody tr th:only-of-type {\n",
       "        vertical-align: middle;\n",
       "    }\n",
       "\n",
       "    .dataframe tbody tr th {\n",
       "        vertical-align: top;\n",
       "    }\n",
       "\n",
       "    .dataframe thead th {\n",
       "        text-align: right;\n",
       "    }\n",
       "</style>\n",
       "<table border=\"1\" class=\"dataframe\">\n",
       "  <thead>\n",
       "    <tr style=\"text-align: right;\">\n",
       "      <th></th>\n",
       "      <th>user_id</th>\n",
       "      <th>movie_id</th>\n",
       "      <th>rating</th>\n",
       "      <th>timestamp</th>\n",
       "    </tr>\n",
       "  </thead>\n",
       "  <tbody>\n",
       "    <tr>\n",
       "      <th>0</th>\n",
       "      <td>196</td>\n",
       "      <td>242</td>\n",
       "      <td>3</td>\n",
       "      <td>881250949</td>\n",
       "    </tr>\n",
       "    <tr>\n",
       "      <th>1</th>\n",
       "      <td>186</td>\n",
       "      <td>302</td>\n",
       "      <td>3</td>\n",
       "      <td>891717742</td>\n",
       "    </tr>\n",
       "    <tr>\n",
       "      <th>2</th>\n",
       "      <td>22</td>\n",
       "      <td>377</td>\n",
       "      <td>1</td>\n",
       "      <td>878887116</td>\n",
       "    </tr>\n",
       "    <tr>\n",
       "      <th>3</th>\n",
       "      <td>244</td>\n",
       "      <td>51</td>\n",
       "      <td>2</td>\n",
       "      <td>880606923</td>\n",
       "    </tr>\n",
       "    <tr>\n",
       "      <th>4</th>\n",
       "      <td>166</td>\n",
       "      <td>346</td>\n",
       "      <td>1</td>\n",
       "      <td>886397596</td>\n",
       "    </tr>\n",
       "    <tr>\n",
       "      <th>...</th>\n",
       "      <td>...</td>\n",
       "      <td>...</td>\n",
       "      <td>...</td>\n",
       "      <td>...</td>\n",
       "    </tr>\n",
       "    <tr>\n",
       "      <th>99995</th>\n",
       "      <td>880</td>\n",
       "      <td>476</td>\n",
       "      <td>3</td>\n",
       "      <td>880175444</td>\n",
       "    </tr>\n",
       "    <tr>\n",
       "      <th>99996</th>\n",
       "      <td>716</td>\n",
       "      <td>204</td>\n",
       "      <td>5</td>\n",
       "      <td>879795543</td>\n",
       "    </tr>\n",
       "    <tr>\n",
       "      <th>99997</th>\n",
       "      <td>276</td>\n",
       "      <td>1090</td>\n",
       "      <td>1</td>\n",
       "      <td>874795795</td>\n",
       "    </tr>\n",
       "    <tr>\n",
       "      <th>99998</th>\n",
       "      <td>13</td>\n",
       "      <td>225</td>\n",
       "      <td>2</td>\n",
       "      <td>882399156</td>\n",
       "    </tr>\n",
       "    <tr>\n",
       "      <th>99999</th>\n",
       "      <td>12</td>\n",
       "      <td>203</td>\n",
       "      <td>3</td>\n",
       "      <td>879959583</td>\n",
       "    </tr>\n",
       "  </tbody>\n",
       "</table>\n",
       "<p>100000 rows × 4 columns</p>\n",
       "</div>"
      ],
      "text/plain": [
       "       user_id  movie_id  rating  timestamp\n",
       "0          196       242       3  881250949\n",
       "1          186       302       3  891717742\n",
       "2           22       377       1  878887116\n",
       "3          244        51       2  880606923\n",
       "4          166       346       1  886397596\n",
       "...        ...       ...     ...        ...\n",
       "99995      880       476       3  880175444\n",
       "99996      716       204       5  879795543\n",
       "99997      276      1090       1  874795795\n",
       "99998       13       225       2  882399156\n",
       "99999       12       203       3  879959583\n",
       "\n",
       "[100000 rows x 4 columns]"
      ]
     },
     "execution_count": 3,
     "metadata": {},
     "output_type": "execute_result"
    }
   ],
   "source": [
    "# Read all the TSV files for the dataset\n",
    "data = pd.read_csv(\"u.data\", delimiter=\"\\t\", names=[\"user_id\", \"movie_id\", \"rating\", \"timestamp\"])\n",
    "data"
   ]
  },
  {
   "cell_type": "code",
   "execution_count": 4,
   "id": "a5bbb860-1706-4d95-b160-44ffa1867b26",
   "metadata": {},
   "outputs": [
    {
     "name": "stdout",
     "output_type": "stream",
     "text": [
      "Original dataset N: 100000\n",
      "Train Data N: 70000\n",
      "Test Data N: 30000\n"
     ]
    }
   ],
   "source": [
    "# Do a train-test-split of 70-30\n",
    "print(\"Original dataset N:\", data.shape[0])\n",
    "train_df, test_df = tts(data, train_size=0.7, test_size=0.3, shuffle=True)\n",
    "print(\"Train Data N:\", train_df.shape[0])\n",
    "print(\"Test Data N:\", test_df.shape[0])"
   ]
  },
  {
   "cell_type": "markdown",
   "id": "45a30800-1eba-4bc9-81ce-5880f9693aa8",
   "metadata": {},
   "source": [
    "Later on, $N$ and $N'$ will be used as parameters for the ESVD algorithm."
   ]
  },
  {
   "cell_type": "markdown",
   "id": "7fd55017-5bdb-47e9-8261-92cfde2cbd4c",
   "metadata": {},
   "source": [
    "### Preparing the Utility Matrix\n",
    "Since the data is in table form, we need to restructure it to match the utility matrix specification that follows:\n",
    "\n",
    "$R_{n \\times m}$\n",
    "\n",
    "where $R$ is the utility matrix, $n$ is the number of users and $m$ is the number of movies.\n",
    "\n",
    "For this matrix, we will be labelling missing entries as $0$ since it is outside of the movie rating scale that only stems from $1 - 5$."
   ]
  },
  {
   "cell_type": "code",
   "execution_count": 5,
   "id": "6c11f9ab-9473-432b-9e12-b3458daa9299",
   "metadata": {},
   "outputs": [
    {
     "name": "stdout",
     "output_type": "stream",
     "text": [
      "Train Matrix Shape: (943, 1682)\n",
      "Test Matrix Shape: (943, 1680)\n"
     ]
    }
   ],
   "source": [
    "# Create matrix of appropriate sizecount\n",
    "\n",
    "# A proper index map should be created here. Change this from using max() to the actual count.\n",
    "utility_R = np.zeros((train_df[\"user_id\"].max(), train_df[\"movie_id\"].max()))\n",
    "print(\"Train Matrix Shape:\", utility_R.shape)\n",
    "\n",
    "utility_R_test = np.zeros((test_df[\"user_id\"].max(), test_df[\"movie_id\"].max()))\n",
    "print(\"Test Matrix Shape:\", utility_R_test.shape)"
   ]
  },
  {
   "cell_type": "code",
   "execution_count": 6,
   "id": "5a5edb6e-1dae-4d0b-9c0f-e714640ff141",
   "metadata": {},
   "outputs": [],
   "source": [
    "# Populate matrix with ratings\n",
    "for i, row in train_df.iterrows():\n",
    "    utility_R[int(row[\"user_id\"]) - 1, int(row[\"movie_id\"]) - 1] = row[\"rating\"]\n",
    "\n",
    "for i, row in test_df.iterrows():\n",
    "    utility_R_test[int(row[\"user_id\"]) - 1, int(row[\"movie_id\"]) - 1] = row[\"rating\"]"
   ]
  },
  {
   "cell_type": "code",
   "execution_count": 7,
   "id": "6dad466e-fc36-41e9-a5c2-ff51dd60bf9b",
   "metadata": {},
   "outputs": [
    {
     "name": "stdout",
     "output_type": "stream",
     "text": [
      "Train Utility Matrix Shape: (943, 1682)\n",
      "Test Utility Matrix Shape: (943, 1680)\n"
     ]
    }
   ],
   "source": [
    "# Remove rows and columns that do not have any entries in them\n",
    "# utility_R = utility_R[:, ~np.all(utility_R == 0, axis=0)]\n",
    "# utility_R = utility_R[~np.all(utility_R == 0, axis=1), :]\n",
    "# utility_R_test = utility_R_test[:, ~np.all(utility_R_test == 0, axis=0)]\n",
    "# utility_R_test = utility_R_test[~np.all(utility_R_test == 0, axis=1), :]\n",
    "print(\"Train Utility Matrix Shape:\", utility_R.shape)\n",
    "print(\"Test Utility Matrix Shape:\", utility_R_test.shape)"
   ]
  },
  {
   "cell_type": "code",
   "execution_count": 8,
   "id": "41e27046-d514-41f7-b0d2-0f74ebce677a",
   "metadata": {},
   "outputs": [
    {
     "name": "stdout",
     "output_type": "stream",
     "text": [
      "Train Utility Matrix Density: 0.044132685549571726\n",
      "Test Utility Matrix Density: 0.018936524768974398\n",
      "[[0. 0. 4. ... 0. 0. 0.]\n",
      " [0. 0. 0. ... 0. 0. 0.]\n",
      " [0. 0. 0. ... 0. 0. 0.]\n",
      " ...\n",
      " [5. 0. 0. ... 0. 0. 0.]\n",
      " [0. 0. 0. ... 0. 0. 0.]\n",
      " [0. 0. 0. ... 0. 0. 0.]] \t <----- Training Utility Matrix\n",
      "[[5. 3. 0. ... 0. 0. 0.]\n",
      " [4. 0. 0. ... 0. 0. 0.]\n",
      " [0. 0. 0. ... 0. 0. 0.]\n",
      " ...\n",
      " [0. 0. 0. ... 0. 0. 0.]\n",
      " [0. 0. 0. ... 0. 0. 0.]\n",
      " [0. 5. 0. ... 0. 0. 0.]] \t <----- Testing Utility Matrix\n"
     ]
    }
   ],
   "source": [
    "print(\"Train Utility Matrix Density:\", np.count_nonzero(utility_R) / (utility_R.shape[0] * utility_R.shape[1]))\n",
    "print(\"Test Utility Matrix Density:\", np.count_nonzero(utility_R_test) / (utility_R_test.shape[0] * utility_R_test.shape[1]))\n",
    "\n",
    "mat_print(utility_R, \"Training Utility Matrix\")\n",
    "mat_print(utility_R_test, \"Testing Utility Matrix\")"
   ]
  },
  {
   "cell_type": "code",
   "execution_count": 9,
   "id": "7b59c2e0-9be2-4522-93c1-775ee660bbbe",
   "metadata": {},
   "outputs": [
    {
     "name": "stdout",
     "output_type": "stream",
     "text": [
      "Train Present ratings: 70000\n",
      "Train Missing ratings: 1516126\n",
      "Test Present ratings: 30000\n",
      "Test Missing ratings: 1554240\n"
     ]
    }
   ],
   "source": [
    "# Double check all ratings complete\n",
    "print(\"Train Present ratings:\", np.count_nonzero(utility_R))\n",
    "print(\"Train Missing ratings:\", np.count_nonzero(utility_R==0))\n",
    "\n",
    "print(\"Test Present ratings:\", np.count_nonzero(utility_R_test))\n",
    "print(\"Test Missing ratings:\", np.count_nonzero(utility_R_test==0))"
   ]
  },
  {
   "cell_type": "markdown",
   "id": "70ecdbc5-5b52-40dd-986b-39d1769b615a",
   "metadata": {},
   "source": [
    "## Training"
   ]
  },
  {
   "cell_type": "markdown",
   "id": "fd515c56-e46c-4883-aec8-660c766b1143",
   "metadata": {},
   "source": [
    "### Step 1: Density Parameters & Top Users and Movies\n",
    "For data preprocessing, we need to derive the following insights based on the needs of the Enhanced Singular Value Decomposition algorithm:\n",
    "1. Get the top $N$ most rated movies\n",
    "2. Get the top $N'$ most active users (users with the most movies rated)"
   ]
  },
  {
   "cell_type": "code",
   "execution_count": 10,
   "id": "69b550ec-8ca7-4f91-bcb2-7285083769ae",
   "metadata": {},
   "outputs": [
    {
     "data": {
      "text/plain": [
       "movie_id\n",
       "50      405\n",
       "288     364\n",
       "181     356\n",
       "286     345\n",
       "258     341\n",
       "       ... \n",
       "1557      1\n",
       "1332      1\n",
       "1561      1\n",
       "1562      1\n",
       "1682      1\n",
       "Name: rating, Length: 1629, dtype: int64"
      ]
     },
     "execution_count": 10,
     "metadata": {},
     "output_type": "execute_result"
    }
   ],
   "source": [
    "popular_movies = train_df.groupby(\"movie_id\")[\"rating\"].count().sort_values(ascending=False)\n",
    "popular_movies_list = list(map(lambda idx: idx - 1, popular_movies.index.tolist())) # convert from 1-indexing to 0-indexing\n",
    "popular_movies # N"
   ]
  },
  {
   "cell_type": "code",
   "execution_count": 11,
   "id": "3a9e2457-902d-44fa-a884-88abc4cdf4df",
   "metadata": {},
   "outputs": [
    {
     "data": {
      "text/plain": [
       "user_id\n",
       "405    502\n",
       "655    479\n",
       "13     462\n",
       "450    373\n",
       "234    368\n",
       "      ... \n",
       "549     12\n",
       "725     11\n",
       "651     11\n",
       "558     10\n",
       "310     10\n",
       "Name: rating, Length: 943, dtype: int64"
      ]
     },
     "execution_count": 11,
     "metadata": {},
     "output_type": "execute_result"
    }
   ],
   "source": [
    "active_users = train_df.groupby(\"user_id\")[\"rating\"].count().sort_values(ascending=False)\n",
    "active_users_list = list(map(lambda idx: idx - 1, active_users.index.tolist())) # convert from 1-indexing to 0-indexing\n",
    "active_users # N prime"
   ]
  },
  {
   "cell_type": "markdown",
   "id": "71ef3c55-352a-4e7e-960d-13ef04b41a54",
   "metadata": {},
   "source": [
    "### Step 2: Initializing Submatrices\n",
    "Now that it is time to initialize the submatrices, we now need to define the values for $N$ and $N'$. We will give its value via a percentage ratio from the actual dataset."
   ]
  },
  {
   "cell_type": "code",
   "execution_count": 12,
   "id": "ced89bad-c8cc-4c0d-bc41-70c7aaec69e1",
   "metadata": {},
   "outputs": [
    {
     "data": {
      "text/plain": [
       "407"
      ]
     },
     "execution_count": 12,
     "metadata": {},
     "output_type": "execute_result"
    }
   ],
   "source": [
    "# Get the 25% of the most rated movies\n",
    "n = n_prime = len(popular_movies_list) // 4\n",
    "n"
   ]
  },
  {
   "cell_type": "code",
   "execution_count": 13,
   "id": "1835d408-863e-426f-b646-82aa6e5b6f54",
   "metadata": {},
   "outputs": [
    {
     "data": {
      "text/plain": [
       "array([[0., 1., 0., ..., 0., 0., 0.],\n",
       "       [0., 0., 0., ..., 0., 0., 0.],\n",
       "       [3., 3., 0., ..., 0., 0., 0.],\n",
       "       ...,\n",
       "       [4., 0., 0., ..., 0., 0., 0.],\n",
       "       [4., 0., 0., ..., 0., 0., 0.],\n",
       "       [3., 0., 0., ..., 0., 0., 0.]])"
      ]
     },
     "execution_count": 13,
     "metadata": {},
     "output_type": "execute_result"
    }
   ],
   "source": [
    "# M2\n",
    "active_users_list = active_users_list[0:n_prime]\n",
    "sub_matrix_user = utility_R[active_users_list, :]\n",
    "sub_matrix_user"
   ]
  },
  {
   "cell_type": "code",
   "execution_count": 14,
   "id": "ff4d2521-8555-425f-a096-776b48a4d666",
   "metadata": {},
   "outputs": [
    {
     "data": {
      "text/plain": [
       "array([[5., 0., 5., ..., 1., 3., 0.],\n",
       "       [5., 3., 0., ..., 0., 0., 0.],\n",
       "       [0., 0., 4., ..., 0., 0., 0.],\n",
       "       ...,\n",
       "       [0., 0., 5., ..., 0., 0., 0.],\n",
       "       [5., 0., 0., ..., 0., 0., 0.],\n",
       "       [0., 0., 4., ..., 0., 0., 0.]])"
      ]
     },
     "execution_count": 14,
     "metadata": {},
     "output_type": "execute_result"
    }
   ],
   "source": [
    "# M1\n",
    "popular_movies_list = popular_movies_list[0:n]\n",
    "sub_matrix_movies = utility_R[:, popular_movies_list]\n",
    "sub_matrix_movies"
   ]
  },
  {
   "cell_type": "code",
   "execution_count": 15,
   "id": "dfad2719-71a9-454f-86e8-eb3d79eb22f5",
   "metadata": {},
   "outputs": [
    {
     "name": "stdout",
     "output_type": "stream",
     "text": [
      "Submatrices shapes (M1, M2):  (943, 407) (407, 1682)\n",
      "Missing values in latent factors (movies, user): 334046 629555\n"
     ]
    }
   ],
   "source": [
    "print(\"Submatrices shapes (M1, M2): \", sub_matrix_movies.shape, sub_matrix_user.shape)\n",
    "print(\"Missing values in latent factors (movies, user):\", np.count_nonzero(sub_matrix_movies==0), np.count_nonzero(sub_matrix_user==0))"
   ]
  },
  {
   "cell_type": "markdown",
   "id": "f60e7a46-28d1-477c-bde0-feedd58cefdf",
   "metadata": {},
   "source": [
    "### Step 3: Finding the Intersection of Popular Movies & Active Users\n",
    "Now that we have found the most popular movies (most rated) and most active users, it's time to find their intersection, so we can get their ratings."
   ]
  },
  {
   "cell_type": "code",
   "execution_count": 16,
   "id": "fbad3e69-f062-4c46-86c2-80a7c6f4acfd",
   "metadata": {},
   "outputs": [
    {
     "name": "stdout",
     "output_type": "stream",
     "text": [
      "Intersection matrix shape: (407, 407)\n",
      "[[0. 5. 5. ... 0. 4. 5.]\n",
      " [4. 3. 3. ... 2. 2. 0.]\n",
      " [0. 0. 0. ... 3. 0. 3.]\n",
      " ...\n",
      " [4. 0. 0. ... 0. 0. 4.]\n",
      " [4. 0. 3. ... 0. 0. 0.]\n",
      " [0. 0. 0. ... 0. 0. 0.]] \t <----- Intersection Matrix\n",
      "Intersection Matrix Density: 0.2286521500280714\n"
     ]
    }
   ],
   "source": [
    "# M3: for this matrix, we need to find where M1 and M2 intersect\n",
    "intersection_matrix = np.zeros(utility_R.shape)\n",
    "\n",
    "for i in range(n):\n",
    "    for j in range(n):\n",
    "        intersection_matrix[i,j] = utility_R[active_users_list[i], popular_movies_list[j]]\n",
    "\n",
    "# Reduce size\n",
    "intersection_matrix = intersection_matrix[:, ~np.all(intersection_matrix == 0, axis=0)]\n",
    "intersection_matrix = intersection_matrix[~np.all(intersection_matrix == 0, axis=1), :]\n",
    "print(\"Intersection matrix shape:\", intersection_matrix.shape)\n",
    "mat_print(intersection_matrix, \"Intersection Matrix\")\n",
    "print(\"Intersection Matrix Density:\", np.count_nonzero(intersection_matrix) / (intersection_matrix.shape[0] * intersection_matrix.shape[1]))"
   ]
  },
  {
   "cell_type": "markdown",
   "id": "a1319e26-0de5-4505-8564-b8839fba14d8",
   "metadata": {},
   "source": [
    "### Step 4: Matrix Factorization (UV Decomposition) for Missing Values in the Intersection Matrix\n",
    "\n",
    "To fill in the matrix above, we shall perform dimensionality reduction on the same matrix, to get the feature vectors $U$ and $V$. With these vectors, we can predict the values for the missing ratings."
   ]
  },
  {
   "cell_type": "markdown",
   "id": "5adfd964-f09f-46cf-90f5-30a26cba6aec",
   "metadata": {},
   "source": [
    "Let's perform Regularized SVD using NumPy's built-in SVD method in its linear algebra module."
   ]
  },
  {
   "cell_type": "code",
   "execution_count": 17,
   "id": "cc704507-b543-4823-9d93-2106320caea4",
   "metadata": {},
   "outputs": [
    {
     "name": "stdout",
     "output_type": "stream",
     "text": [
      "Are the factor matrices accurate? : True\n"
     ]
    },
    {
     "data": {
      "text/plain": [
       "array([[ 0.,  5.,  5., ...,  0.,  4.,  5.],\n",
       "       [ 4.,  3.,  3., ...,  2.,  2., -0.],\n",
       "       [ 0.,  0.,  0., ...,  3.,  0.,  3.],\n",
       "       ...,\n",
       "       [ 4.,  0.,  0., ...,  0.,  0.,  4.],\n",
       "       [ 4.,  0.,  3., ...,  0.,  0.,  0.],\n",
       "       [ 0.,  0., -0., ..., -0.,  0., -0.]])"
      ]
     },
     "execution_count": 17,
     "metadata": {},
     "output_type": "execute_result"
    }
   ],
   "source": [
    "U, S, Vh = np.linalg.svd(intersection_matrix, full_matrices=True)\n",
    "Sd = sp.linalg.diagsvd(S, *intersection_matrix.shape)\n",
    "reconstructed_intersection = np.around(U @ Sd @ Vh, 2)\n",
    "print(\"Are the factor matrices accurate? :\", np.allclose(intersection_matrix, reconstructed_intersection))\n",
    "reconstructed_intersection"
   ]
  },
  {
   "cell_type": "markdown",
   "id": "4b134a1c-0a29-43d3-a05d-1e1c6aeb18d7",
   "metadata": {},
   "source": [
    "Now that we are sure that the factor matrices accurate within reasonable tolerance, we shall use the following equation to predict the missing ratings:\n",
    "\n",
    "$\\hat{r}_{ij} = (U\\Sigma)_{i}V^T_{j}$"
   ]
  },
  {
   "cell_type": "code",
   "execution_count": 18,
   "id": "b0965c57-bd87-4331-b2e8-75799b1a6d8a",
   "metadata": {},
   "outputs": [
    {
     "data": {
      "text/plain": [
       "array([[0.40126356, 5.        , 5.        , ..., 3.32889814, 4.        ,\n",
       "        5.        ],\n",
       "       [4.        , 3.        , 3.        , ..., 2.        , 2.        ,\n",
       "        0.1796135 ],\n",
       "       [6.79613747, 0.39282021, 1.81382291, ..., 3.        , 0.07333712,\n",
       "        3.        ],\n",
       "       ...,\n",
       "       [4.        , 1.85130605, 0.11950966, ..., 0.93514634, 1.04563072,\n",
       "        4.        ],\n",
       "       [4.        , 1.44119494, 3.        , ..., 1.0628045 , 1.2868025 ,\n",
       "        0.95575755],\n",
       "       [3.03110548, 0.34247859, 0.65357245, ..., 0.11320131, 0.39303998,\n",
       "        2.17303781]])"
      ]
     },
     "execution_count": 18,
     "metadata": {},
     "output_type": "execute_result"
    }
   ],
   "source": [
    "# Predict the rest of the values of the matrix\n",
    "predicted_intersection = np.zeros(intersection_matrix.shape)\n",
    "US = U @ Sd\n",
    "for i in range(US.shape[0]):\n",
    "    for j in range(Vh.shape[0]):\n",
    "        if intersection_matrix[i,j] == 0:\n",
    "            predicted_intersection[i,j] = np.abs(US[i,:] @ Vh.T[:,j])\n",
    "        else:\n",
    "            predicted_intersection[i,j] = intersection_matrix[i,j]\n",
    "predicted_intersection"
   ]
  },
  {
   "cell_type": "markdown",
   "id": "d7904790-7906-4ad6-91b8-117a723069dd",
   "metadata": {},
   "source": [
    "### Step 5: Remapping the Generated Intersection Matrix Values to the Main Training Matrix\n",
    "Now that we found the predicted ratings, we need to remap these values to the original matrix, then we can perform the SVD one more time before testing it on the test set."
   ]
  },
  {
   "cell_type": "code",
   "execution_count": 19,
   "id": "4b5b2034-5816-41fb-b942-c882bc3e8bd5",
   "metadata": {},
   "outputs": [],
   "source": [
    "u = k = 0\n",
    "for i in active_users_list:\n",
    "    k = 0\n",
    "    for j in popular_movies_list:\n",
    "        utility_R[i,j] = predicted_intersection[u,k]\n",
    "        k += 1\n",
    "    u += 1"
   ]
  },
  {
   "cell_type": "markdown",
   "id": "9ddd5257-baff-449f-9f8b-ce29869a5411",
   "metadata": {},
   "source": [
    "Let us now check the density of the brand new utility matrix with some updated ratings."
   ]
  },
  {
   "cell_type": "code",
   "execution_count": 20,
   "id": "f703744a-0d33-4826-b8c7-adc6c1a2a2ad",
   "metadata": {},
   "outputs": [
    {
     "name": "stdout",
     "output_type": "stream",
     "text": [
      "Updated Utility Matrix Density: 0.12468933741707784\n"
     ]
    }
   ],
   "source": [
    "print(\"Updated Utility Matrix Density:\", np.count_nonzero(utility_R) / (utility_R.shape[0] * utility_R.shape[1]))"
   ]
  },
  {
   "cell_type": "markdown",
   "id": "8545c68b-0873-49fb-9252-6b2301eb25fe",
   "metadata": {},
   "source": [
    "We now have an updated density that is roughly 3 times the original density. "
   ]
  },
  {
   "cell_type": "markdown",
   "id": "802e6182-d7bc-4af3-b919-75995eddd689",
   "metadata": {},
   "source": [
    "### Step 6: Testing Against the Test Set\n",
    "With a set of trained weights, we can now predict the missing ratings of the test set.\n",
    "\n",
    "First, we need to match the dimensions of the test set and train set. To do this, we will pad the test set with zeros."
   ]
  },
  {
   "cell_type": "code",
   "execution_count": 21,
   "id": "fcb86ea5-054f-4223-8bad-c7e94e037baf",
   "metadata": {},
   "outputs": [],
   "source": [
    "if utility_R_test.shape[1] < utility_R.shape[1]:\n",
    "    # Pad the test\n",
    "    padded_test = np.pad(utility_R_test, ((0, utility_R.shape[0] - utility_R_test.shape[0]), (0, utility_R.shape[1] - utility_R_test.shape[1])), 'constant')\n",
    "    padded_test.shape\n",
    "else:\n",
    "    # Pad the train set\n",
    "    padded_test = utility_R_test.copy()\n",
    "    utility_R = np.pad(utility_R, ((0, utility_R_test.shape[0] - utility_R.shape[0]), (0, utility_R_test.shape[1] - utility_R.shape[1])), 'constant')"
   ]
  },
  {
   "cell_type": "code",
   "execution_count": 22,
   "id": "94fb7dbd-41ef-4dd5-a433-e35c0f700884",
   "metadata": {},
   "outputs": [
    {
     "name": "stdout",
     "output_type": "stream",
     "text": [
      "Test Utility Matrix Density: 0.018914008092673597\n",
      "Updated train size: (943, 1682)\n",
      "Updated test size: (943, 1682)\n"
     ]
    }
   ],
   "source": [
    "# Calculate density of the test set\n",
    "print(\"Test Utility Matrix Density:\", np.count_nonzero(padded_test) / (padded_test.shape[0] * padded_test.shape[1]))\n",
    "print(\"Updated train size:\", utility_R.shape)\n",
    "print(\"Updated test size:\", padded_test.shape)"
   ]
  },
  {
   "cell_type": "markdown",
   "id": "95720d44-d0c3-4945-87c0-b15e90d4ff95",
   "metadata": {},
   "source": [
    "Next, we shall perform RSVD on the updated utility train set to get our $U'$ and $V'$ weights."
   ]
  },
  {
   "cell_type": "code",
   "execution_count": 23,
   "id": "a4b6f002-c0b8-438a-8015-345493dd74a2",
   "metadata": {},
   "outputs": [
    {
     "data": {
      "text/plain": [
       "array([[ 2.17,  1.9 ,  4.  , ...,  0.  , -0.  , -0.  ],\n",
       "       [ 0.  ,  0.  ,  0.  , ...,  0.  ,  0.  ,  0.  ],\n",
       "       [-0.  ,  0.  , -0.  , ...,  0.  ,  0.  ,  0.  ],\n",
       "       ...,\n",
       "       [ 5.  , -0.  ,  0.  , ...,  0.  ,  0.  , -0.  ],\n",
       "       [ 0.89,  4.62,  0.61, ...,  0.  , -0.  , -0.  ],\n",
       "       [ 1.78,  1.74,  0.09, ...,  0.  , -0.  ,  0.  ]])"
      ]
     },
     "execution_count": 23,
     "metadata": {},
     "output_type": "execute_result"
    }
   ],
   "source": [
    "U, S, Vh = np.linalg.svd(utility_R, full_matrices=True)\n",
    "Sd = sp.linalg.diagsvd(S, *utility_R.shape)\n",
    "utility_pred = np.around(U @ Sd @ Vh, 2)\n",
    "utility_pred"
   ]
  },
  {
   "cell_type": "markdown",
   "id": "034539cc-aa46-40d0-9b46-cbf1788bcbd0",
   "metadata": {},
   "source": [
    "Apply the prediction to the test set's nonzero elements and get the RMSE."
   ]
  },
  {
   "cell_type": "code",
   "execution_count": 24,
   "id": "6fcd53ff-7450-429d-9cb0-d38c32058611",
   "metadata": {},
   "outputs": [
    {
     "data": {
      "text/plain": [
       "array([[4.41, 6.43, 4.76, ..., 0.  , 0.17, 0.1 ],\n",
       "       [0.07, 0.22, 0.53, ..., 0.  , 0.13, 0.07],\n",
       "       [0.17, 0.54, 1.72, ..., 0.  , 0.09, 0.02],\n",
       "       ...,\n",
       "       [0.28, 1.04, 0.37, ..., 0.  , 0.02, 0.06],\n",
       "       [2.46, 4.27, 0.69, ..., 0.  , 0.2 , 0.15],\n",
       "       [2.3 , 4.94, 3.24, ..., 0.  , 0.18, 0.2 ]])"
      ]
     },
     "execution_count": 24,
     "metadata": {},
     "output_type": "execute_result"
    }
   ],
   "source": [
    "test_prediction = np.zeros(padded_test.shape)\n",
    "US = U @ Sd\n",
    "for i in range(test_prediction.shape[0]):\n",
    "    for j in range(test_prediction.shape[1]):\n",
    "        # Predict\n",
    "        test_prediction[i,j] = np.abs(US[i,:] @ Vh.T[:,j])\n",
    "np.around(test_prediction, 2)"
   ]
  },
  {
   "cell_type": "code",
   "execution_count": 25,
   "id": "6654c43f-2d4b-41ba-bf20-307465e50475",
   "metadata": {},
   "outputs": [
    {
     "name": "stdout",
     "output_type": "stream",
     "text": [
      "RMSE From SKlearn's RMSE Function: 0.7951128340358145\n"
     ]
    }
   ],
   "source": [
    "print(\"RMSE From SKlearn's RMSE Function:\", rmse(padded_test, test_prediction))"
   ]
  },
  {
   "cell_type": "markdown",
   "id": "761a15a1-dab1-4a95-b4bb-7148103228cf",
   "metadata": {},
   "source": [
    "Let's calculate our own RMSE function based on the paper."
   ]
  },
  {
   "cell_type": "code",
   "execution_count": 26,
   "id": "234bdf44-073e-4380-9d9a-8245505f14c4",
   "metadata": {},
   "outputs": [
    {
     "data": {
      "text/plain": [
       "0.9704463119168542"
      ]
     },
     "execution_count": 26,
     "metadata": {},
     "output_type": "execute_result"
    }
   ],
   "source": [
    "T = padded_test.shape[0] * padded_test.shape[1]\n",
    "errors = np.sum((padded_test - test_prediction)**2)\n",
    "calc_rmse = np.sqrt(errors / T)\n",
    "calc_rmse"
   ]
  },
  {
   "cell_type": "markdown",
   "id": "bd5e4a05-2a22-48e9-8f7e-c353e2f0836a",
   "metadata": {},
   "source": [
    "We will follow the RMSE defined in the paper so we can compare our results with theirs."
   ]
  },
  {
   "cell_type": "markdown",
   "id": "b0843571-08b4-4ec2-99e9-8d437b1ad07e",
   "metadata": {},
   "source": [
    "## Bundling\n",
    "To make the test phase easier, we shall bundle the code into a Python file.\n",
    "\n",
    "Before jumping into testing & validation, let's run one more run of the same set of steps we did above, just now with the bundled module."
   ]
  },
  {
   "cell_type": "code",
   "execution_count": 27,
   "id": "0c2bd1af-c2f8-4f29-a198-17076c31eadb",
   "metadata": {},
   "outputs": [
    {
     "data": {
      "text/plain": [
       "(0.9704463119168542,\n",
       " array([[4.40800739, 6.42787188, 4.75812686, ..., 0.        , 0.17096536,\n",
       "         0.09938518],\n",
       "        [0.06932096, 0.22258891, 0.53318447, ..., 0.        , 0.12525488,\n",
       "         0.06803808],\n",
       "        [0.1681364 , 0.53691192, 1.7172301 , ..., 0.        , 0.08532663,\n",
       "         0.02265399],\n",
       "        ...,\n",
       "        [0.28113874, 1.04350939, 0.36927483, ..., 0.        , 0.02107114,\n",
       "         0.05513463],\n",
       "        [2.45744288, 4.26802772, 0.69438646, ..., 0.        , 0.20075411,\n",
       "         0.14591756],\n",
       "        [2.30027669, 4.94314498, 3.24060598, ..., 0.        , 0.17871092,\n",
       "         0.19836103]]))"
      ]
     },
     "execution_count": 27,
     "metadata": {},
     "output_type": "execute_result"
    }
   ],
   "source": [
    "import ESVD\n",
    "util = ESVD.fit(train_df, 0.25)\n",
    "ESVD.test(util, test_df)"
   ]
  },
  {
   "cell_type": "code",
   "execution_count": 28,
   "id": "f03f879b-4a83-4488-b205-728a249a4063",
   "metadata": {},
   "outputs": [
    {
     "name": "stdout",
     "output_type": "stream",
     "text": [
      "RMSE: 0.9420014257111312\n"
     ]
    },
    {
     "data": {
      "text/plain": [
       "array([[4.04, 2.58, 0.28, ..., 0.  , 0.13, 0.14],\n",
       "       [0.27, 0.11, 0.79, ..., 0.  , 0.06, 0.12],\n",
       "       [0.23, 0.31, 0.45, ..., 0.  , 0.05, 0.15],\n",
       "       ...,\n",
       "       [0.13, 0.3 , 0.44, ..., 0.  , 0.05, 0.  ],\n",
       "       [1.03, 0.28, 1.17, ..., 0.  , 0.2 , 0.05],\n",
       "       [2.11, 4.06, 0.57, ..., 0.  , 0.11, 0.19]])"
      ]
     },
     "execution_count": 28,
     "metadata": {},
     "output_type": "execute_result"
    }
   ],
   "source": [
    "cal_rmse, pred = ESVD.train_and_test(train_df, test_df, 0.20)\n",
    "print(\"RMSE:\", cal_rmse)\n",
    "np.around(pred, 2)"
   ]
  },
  {
   "cell_type": "markdown",
   "id": "59a20f97-bee5-4994-8239-9cbadc7e9f92",
   "metadata": {},
   "source": [
    "## Testing & Validation\n",
    "To validate the accuracy of the model, we will run K-Fold Cross-Validation.\n",
    "\n",
    "First, we shall segment our original data dataframe into k segments."
   ]
  },
  {
   "cell_type": "code",
   "execution_count": 29,
   "id": "1af22eeb-719c-434e-a314-4d5d139bfb78",
   "metadata": {},
   "outputs": [],
   "source": [
    "# Shuffle dataframe\n",
    "master_df = data.sample(frac=1)"
   ]
  },
  {
   "cell_type": "code",
   "execution_count": 30,
   "id": "0199678b-cc7c-4dc3-be32-f37e8c9607f9",
   "metadata": {},
   "outputs": [],
   "source": [
    "# Define hyperparameters\n",
    "K = 5\n",
    "n_top = 0.2\n",
    "\n",
    "# Split the master df to 5 sections\n",
    "n = master_df.shape[0] // 5\n",
    "dfs = []\n",
    "for i in range(K):\n",
    "    dfs.append(master_df[i*n : (i+1)*n])"
   ]
  },
  {
   "cell_type": "code",
   "execution_count": 31,
   "id": "98cd2235-a48f-4308-bcda-22e087eeea96",
   "metadata": {},
   "outputs": [
    {
     "name": "stdout",
     "output_type": "stream",
     "text": [
      "Fold 0:\n",
      "\n",
      "       user_id  movie_id  rating  timestamp\n",
      "37517      622        30       4  882670190\n",
      "1659        49       625       3  888067031\n",
      "52464      432       300       4  889415763\n",
      "48783      498       447       3  882205321\n",
      "92684      906       237       4  879435469\n",
      "...        ...       ...     ...        ...\n",
      "70848      704       648       5  891397667\n",
      "69015      409      1512       5  881106947\n",
      "76661      933       405       3  874939157\n",
      "72060      913       174       5  881367620\n",
      "34403      318        85       3  884497180\n",
      "\n",
      "[20000 rows x 4 columns]\n",
      "Fold 1:\n",
      "\n",
      "       user_id  movie_id  rating  timestamp\n",
      "60313      670       659       5  877974699\n",
      "79699      711       155       4  879995382\n",
      "70871      848       476       3  887047674\n",
      "32554      561        53       3  885810538\n",
      "42892      610       288       3  888702795\n",
      "...        ...       ...     ...        ...\n",
      "50255        7        68       4  891351547\n",
      "9404       248       210       3  884534946\n",
      "25332      271        98       5  885848559\n",
      "28742      194       182       3  879521475\n",
      "66110      682       153       3  888521465\n",
      "\n",
      "[20000 rows x 4 columns]\n",
      "Fold 2:\n",
      "\n",
      "       user_id  movie_id  rating  timestamp\n",
      "48051      504        90       3  887910552\n",
      "8256        92       552       3  875907078\n",
      "10822      213       357       5  878955848\n",
      "98620       97       208       5  884239744\n",
      "84755      673       326       4  888787423\n",
      "...        ...       ...     ...        ...\n",
      "75812       32       455       2  883717796\n",
      "37276      406       624       5  879793112\n",
      "75346      848       474       5  887038441\n",
      "38173      457       448       4  882548537\n",
      "37980      328       684       5  885046537\n",
      "\n",
      "[20000 rows x 4 columns]\n",
      "Fold 3:\n",
      "\n",
      "       user_id  movie_id  rating  timestamp\n",
      "45672      693       655       3  875482604\n",
      "72619      694       215       3  875728181\n",
      "81888      862       647       5  879304369\n",
      "97325      874       285       4  888632411\n",
      "97869      919       864       2  875288848\n",
      "...        ...       ...     ...        ...\n",
      "71664      716        70       4  879796046\n",
      "75242      894       885       2  887044250\n",
      "91722      455       736       3  879112460\n",
      "79775      854        64       5  882814121\n",
      "96765      382       756       3  875946185\n",
      "\n",
      "[20000 rows x 4 columns]\n",
      "Fold 4:\n",
      "\n",
      "       user_id  movie_id  rating  timestamp\n",
      "89285      927       928       4  879183019\n",
      "50764      521       763       4  884476152\n",
      "66822      738       206       3  875350223\n",
      "67155      178       628       4  882824027\n",
      "58720      795       240       2  883767338\n",
      "...        ...       ...     ...        ...\n",
      "6492       296       654       5  884197419\n",
      "82378      862       520       4  879304484\n",
      "30604      189       516       1  893265568\n",
      "96908      890       133       5  882402518\n",
      "16789      216       357       4  880233635\n",
      "\n",
      "[20000 rows x 4 columns]\n"
     ]
    }
   ],
   "source": [
    "for i in range(len(dfs)):\n",
    "    print(\"Fold {i}:\\n\".format(i=i))\n",
    "    print(dfs[i])"
   ]
  },
  {
   "cell_type": "code",
   "execution_count": 32,
   "id": "dd474e9c-147d-457f-839e-718f809848d1",
   "metadata": {},
   "outputs": [
    {
     "name": "stdout",
     "output_type": "stream",
     "text": [
      "Fold 0 RMSE: 0.9749295588767017\n",
      "Fold 1 RMSE: 0.9711199313569032\n",
      "Fold 2 RMSE: 0.9728367819450962\n",
      "Fold 3 RMSE: 0.9728220671730281\n",
      "Fold 4 RMSE: 0.9748322171360919\n",
      "Average RMSE: 0.9733081112975643\n"
     ]
    },
    {
     "data": {
      "text/plain": [
       "[0.9749295588767017,\n",
       " 0.9711199313569032,\n",
       " 0.9728367819450962,\n",
       " 0.9728220671730281,\n",
       " 0.9748322171360919]"
      ]
     },
     "execution_count": 32,
     "metadata": {},
     "output_type": "execute_result"
    }
   ],
   "source": [
    "# Run the round-robin\n",
    "test_rmse_values = []\n",
    "for fold in range(K):\n",
    "    # Select test set\n",
    "    test_set = dfs[fold]\n",
    "    train_dfs = [x for i,x in enumerate(dfs) if i!=fold]\n",
    "    train_set = pd.concat(train_dfs)\n",
    "    cal_rmse, _ = ESVD.train_and_test(train_set, test_set, n_top)\n",
    "    test_rmse_values.append(cal_rmse)\n",
    "    print(\"Fold {fold} RMSE: {rmse}\".format(fold=fold, rmse=cal_rmse))\n",
    "print(\"Average RMSE:\", np.mean(test_rmse_values))\n",
    "test_rmse_values"
   ]
  },
  {
   "cell_type": "code",
   "execution_count": 33,
   "id": "4c0b8582-ba9b-468e-be84-8f16cba6cc36",
   "metadata": {},
   "outputs": [
    {
     "data": {
      "text/plain": [
       "Text(0.5, 1.0, 'K-Fold Cross-Validation')"
      ]
     },
     "execution_count": 33,
     "metadata": {},
     "output_type": "execute_result"
    },
    {
     "data": {
      "image/png": "[encoded data removed]",
      "text/plain": [
       "<Figure size 640x480 with 1 Axes>"
      ]
     },
     "metadata": {},
     "output_type": "display_data"
    }
   ],
   "source": [
    "plt.plot(test_rmse_values)\n",
    "plt.xlabel(\"Fold\")\n",
    "plt.ylabel(\"Test RMSE\")\n",
    "plt.title(\"K-Fold Cross-Validation\")"
   ]
  },
  {
   "cell_type": "markdown",
   "id": "b400e540-e4a2-4426-abd0-68da15c10a5c",
   "metadata": {},
   "source": [
    "And there we have it! The Enhanced-SVD model is trained and validated successfully on the MovieLens-100K dataset!"
   ]
  },
  {
   "cell_type": "code",
   "execution_count": 50,
   "id": "8ba12fd1-e4d8-4a47-b371-c3af644d5f01",
   "metadata": {},
   "outputs": [],
   "source": [
    "from UVD_GD import train_rmse"
   ]
  },
  {
   "cell_type": "code",
   "execution_count": 62,
   "id": "1310d6be-15fa-4125-ae06-aa7e6b39c9ba",
   "metadata": {},
   "outputs": [
    {
     "name": "stdout",
     "output_type": "stream",
     "text": [
      "Initialized parameters...\n",
      "Initializing weights...\n",
      "Initial weight: 0.18862534003492254\n",
      "----------------------------------------------------------\n",
      "[[5. 3. 4. ... 0. 0. 0.]\n",
      " [4. 0. 0. ... 0. 0. 0.]\n",
      " [0. 0. 0. ... 0. 0. 0.]\n",
      " ...\n",
      " [0. 0. 0. ... 0. 0. 0.]\n",
      " [0. 0. 0. ... 0. 0. 0.]\n",
      " [0. 5. 0. ... 0. 0. 0.]] \t <----- Ground Truth M\n",
      "----------------------------------------------------------\n",
      "Starting training with the following parameters:\n",
      "alpha (lr): 0.0001\n",
      "Precision threshold: 1e-06\n",
      "Max epochs: 100\n",
      "----------------------------------------------------------\n",
      "Initial RMSE:  0.6372374640972173\n",
      "Epoch 0 RMSE: 0.6371977150625435\n",
      "Epoch 1 RMSE: 0.6371524660516565\n",
      "Epoch 2 RMSE: 0.6371019380506425\n",
      "Epoch 3 RMSE: 0.6370469731807638\n",
      "Epoch 4 RMSE: 0.6369892969037323\n",
      "Epoch 5 RMSE: 0.6369317895144339\n",
      "Epoch 6 RMSE: 0.6368786937316367\n",
      "Epoch 7 RMSE: 0.6368356361492344\n",
      "Epoch 8 RMSE: 0.6368093044391452\n",
      "Epoch 9 RMSE: 0.6368066505047486\n",
      "Epoch 10 RMSE: 0.6368336450468689\n",
      "----------------------------------------------------------\n",
      "Training complete\n",
      "Final RMSE: 0.6368336450468689\n",
      "Training stopped at epoch 10\n",
      "----------------------------------------------------------\n",
      "[[2.54203884 1.1966031  0.93514847 ... 0.         0.         0.        ]\n",
      " [1.28300555 0.60394373 0.47198362 ... 0.         0.         0.        ]\n",
      " [1.09221476 0.51413359 0.40179676 ... 0.         0.         0.        ]\n",
      " ...\n",
      " [1.02913443 0.48444006 0.37859118 ... 0.         0.         0.        ]\n",
      " [1.5631146  0.73579826 0.57502828 ... 0.         0.         0.        ]\n",
      " [1.92999276 0.90849726 0.709993   ... 0.         0.         0.        ]] \t <----- predicted utility matrix\n",
      "Fold 0 RMSE: 0.6135020656444292\n",
      "Initialized parameters...\n",
      "Initializing weights...\n",
      "Initial weight: 0.18868616244912062\n",
      "----------------------------------------------------------\n",
      "[[0. 3. 4. ... 0. 0. 0.]\n",
      " [0. 0. 0. ... 0. 0. 0.]\n",
      " [0. 0. 0. ... 0. 0. 0.]\n",
      " ...\n",
      " [5. 0. 0. ... 0. 0. 0.]\n",
      " [0. 0. 0. ... 0. 0. 0.]\n",
      " [0. 5. 0. ... 0. 0. 0.]] \t <----- Ground Truth M\n",
      "----------------------------------------------------------\n",
      "Starting training with the following parameters:\n",
      "alpha (lr): 0.0001\n",
      "Precision threshold: 1e-06\n",
      "Max epochs: 100\n",
      "----------------------------------------------------------\n",
      "Initial RMSE:  0.6362097015887134\n",
      "Epoch 0 RMSE: 0.6361704839465775\n",
      "Epoch 1 RMSE: 0.6361257726017516\n",
      "Epoch 2 RMSE: 0.6360757852045964\n",
      "Epoch 3 RMSE: 0.6360213583739339\n",
      "Epoch 4 RMSE: 0.635964208673821\n",
      "Epoch 5 RMSE: 0.6359072018241774\n",
      "Epoch 6 RMSE: 0.6358545566925455\n",
      "Epoch 7 RMSE: 0.6358118623224621\n",
      "Epoch 8 RMSE: 0.6357857519410561\n",
      "Epoch 9 RMSE: 0.6357831079927313\n",
      "Epoch 10 RMSE: 0.6358098277039922\n",
      "----------------------------------------------------------\n",
      "Training complete\n",
      "Final RMSE: 0.6358098277039922\n",
      "Training stopped at epoch 10\n",
      "----------------------------------------------------------\n",
      "[[2.51054934 1.17563131 0.97027336 ... 0.         0.         0.        ]\n",
      " [1.24813357 0.58447165 0.4823768  ... 0.         0.         0.        ]\n",
      " [1.02546505 0.48020121 0.3963202  ... 0.         0.         0.        ]\n",
      " ...\n",
      " [1.00693021 0.47152178 0.38915688 ... 0.         0.         0.        ]\n",
      " [1.51774009 0.71072205 0.58657392 ... 0.         0.         0.        ]\n",
      " [1.91745697 0.89790008 0.7410559  ... 0.         0.         0.        ]] \t <----- predicted utility matrix\n",
      "Fold 1 RMSE: 0.6132470905422324\n",
      "Initialized parameters...\n",
      "Initializing weights...\n",
      "Initial weight: 0.18871589814121187\n",
      "----------------------------------------------------------\n",
      "[[5. 3. 4. ... 0. 0. 0.]\n",
      " [4. 0. 0. ... 0. 0. 0.]\n",
      " [0. 0. 0. ... 0. 0. 0.]\n",
      " ...\n",
      " [5. 0. 0. ... 0. 0. 0.]\n",
      " [0. 0. 0. ... 0. 0. 0.]\n",
      " [0. 0. 0. ... 0. 0. 0.]] \t <----- Ground Truth M\n",
      "----------------------------------------------------------\n",
      "Starting training with the following parameters:\n",
      "alpha (lr): 0.0001\n",
      "Precision threshold: 1e-06\n",
      "Max epochs: 100\n",
      "----------------------------------------------------------\n",
      "Initial RMSE:  0.636627400787106\n",
      "Epoch 0 RMSE: 0.6365869396224665\n",
      "Epoch 1 RMSE: 0.6365405292835993\n",
      "Epoch 2 RMSE: 0.636488308905274\n",
      "Epoch 3 RMSE: 0.6364310501980125\n",
      "Epoch 4 RMSE: 0.6363704349354712\n",
      "Epoch 5 RMSE: 0.6363093452463461\n",
      "Epoch 6 RMSE: 0.6362520900932879\n",
      "Epoch 7 RMSE: 0.6362044382254275\n",
      "Epoch 8 RMSE: 0.6361732870071501\n",
      "Epoch 9 RMSE: 0.6361658229941258\n",
      "Epoch 10 RMSE: 0.636188196847308\n",
      "----------------------------------------------------------\n",
      "Training complete\n",
      "Final RMSE: 0.636188196847308\n",
      "Training stopped at epoch 10\n",
      "----------------------------------------------------------\n",
      "[[2.65471261 1.17581939 0.97948767 ... 0.         0.         0.        ]\n",
      " [1.31753807 0.58356103 0.48612128 ... 0.         0.         0.        ]\n",
      " [1.10232228 0.48823813 0.40671487 ... 0.         0.         0.        ]\n",
      " ...\n",
      " [1.02086753 0.45216037 0.37666117 ... 0.         0.         0.        ]\n",
      " [1.58557503 0.70227936 0.58501669 ... 0.         0.         0.        ]\n",
      " [2.03796148 0.90264936 0.75193003 ... 0.         0.         0.        ]] \t <----- predicted utility matrix\n",
      "Fold 2 RMSE: 0.6151594878975014\n",
      "Initialized parameters...\n",
      "Initializing weights...\n",
      "Initial weight: 0.18870186615128717\n",
      "----------------------------------------------------------\n",
      "[[5. 3. 4. ... 0. 0. 0.]\n",
      " [4. 0. 0. ... 0. 0. 0.]\n",
      " [0. 0. 0. ... 0. 0. 0.]\n",
      " ...\n",
      " [5. 0. 0. ... 0. 0. 0.]\n",
      " [0. 0. 0. ... 0. 0. 0.]\n",
      " [0. 5. 0. ... 0. 0. 0.]] \t <----- Ground Truth M\n",
      "----------------------------------------------------------\n",
      "Starting training with the following parameters:\n",
      "alpha (lr): 0.0001\n",
      "Precision threshold: 1e-06\n",
      "Max epochs: 100\n",
      "----------------------------------------------------------\n",
      "Initial RMSE:  0.636931282766893\n",
      "Epoch 0 RMSE: 0.6368904774172787\n",
      "Epoch 1 RMSE: 0.6368439005254779\n",
      "Epoch 2 RMSE: 0.6367917486033684\n",
      "Epoch 3 RMSE: 0.6367348585946317\n",
      "Epoch 4 RMSE: 0.6366749813913645\n",
      "Epoch 5 RMSE: 0.6366150652388328\n",
      "Epoch 6 RMSE: 0.6365594723691013\n",
      "Epoch 7 RMSE: 0.6365140012963499\n",
      "Epoch 8 RMSE: 0.6364855508844833\n",
      "Epoch 9 RMSE: 0.6364812935718606\n",
      "Epoch 10 RMSE: 0.6365073877102345\n",
      "----------------------------------------------------------\n",
      "Training complete\n",
      "Final RMSE: 0.6365073877102345\n",
      "Training stopped at epoch 10\n",
      "----------------------------------------------------------\n",
      "[[2.50790957 1.1595947  0.98507551 ... 0.         0.         0.        ]\n",
      " [1.2548004  0.58018834 0.4928699  ... 0.         0.         0.        ]\n",
      " [1.06042213 0.49031269 0.41652055 ... 0.         0.         0.        ]\n",
      " ...\n",
      " [1.04743372 0.48430717 0.41141887 ... 0.         0.         0.        ]\n",
      " [1.52101575 0.70327967 0.59743596 ... 0.         0.         0.        ]\n",
      " [1.89577583 0.87655936 0.74463703 ... 0.         0.         0.        ]] \t <----- predicted utility matrix\n",
      "Fold 3 RMSE: 0.6130848798046576\n",
      "Initialized parameters...\n",
      "Initializing weights...\n",
      "Initial weight: 0.18876633786966418\n",
      "----------------------------------------------------------\n",
      "[[5. 0. 0. ... 0. 0. 0.]\n",
      " [4. 0. 0. ... 0. 0. 0.]\n",
      " [0. 0. 0. ... 0. 0. 0.]\n",
      " ...\n",
      " [5. 0. 0. ... 0. 0. 0.]\n",
      " [0. 0. 0. ... 0. 0. 0.]\n",
      " [0. 5. 0. ... 0. 0. 0.]] \t <----- Ground Truth M\n",
      "----------------------------------------------------------\n",
      "Starting training with the following parameters:\n",
      "alpha (lr): 0.0001\n",
      "Precision threshold: 1e-06\n",
      "Max epochs: 100\n",
      "----------------------------------------------------------\n",
      "Initial RMSE:  0.6374419243402861\n",
      "Epoch 0 RMSE: 0.6374015905558361\n",
      "Epoch 1 RMSE: 0.6373553462105936\n",
      "Epoch 2 RMSE: 0.6373033410987237\n",
      "Epoch 3 RMSE: 0.6372463589306914\n",
      "Epoch 4 RMSE: 0.6371860948788\n",
      "Epoch 5 RMSE: 0.637125445949077\n",
      "Epoch 6 RMSE: 0.6370687374041114\n",
      "Epoch 7 RMSE: 0.6370217552772465\n",
      "Epoch 8 RMSE: 0.636991414527803\n",
      "Epoch 9 RMSE: 0.6369849201066419\n",
      "Epoch 10 RMSE: 0.6370084459008635\n",
      "----------------------------------------------------------\n",
      "Training complete\n",
      "Final RMSE: 0.6370084459008635\n",
      "Training stopped at epoch 10\n",
      "----------------------------------------------------------\n",
      "[[2.6580155  1.24774792 0.97134824 ... 0.         0.         0.        ]\n",
      " [1.33757816 0.62789715 0.4888061  ... 0.         0.         0.        ]\n",
      " [1.10041926 0.51656803 0.40213848 ... 0.         0.         0.        ]\n",
      " ...\n",
      " [1.06040876 0.49778597 0.38751699 ... 0.         0.         0.        ]\n",
      " [1.60402192 0.75297341 0.58617561 ... 0.         0.         0.        ]\n",
      " [2.09614693 0.98399086 0.76601834 ... 0.         0.         0.        ]] \t <----- predicted utility matrix\n",
      "Fold 4 RMSE: 0.6146315506595649\n",
      "Average RMSE: 0.6139250149096771\n"
     ]
    },
    {
     "data": {
      "image/png": "[encoded data removed]",
      "text/latex": [
       "$\\displaystyle \\left[ 0.613502065644429, \\  0.613247090542232, \\  0.615159487897501, \\  0.613084879804658, \\  0.614631550659565\\right]$"
      ],
      "text/plain": [
       "[0.6135020656444292, 0.6132470905422324, 0.6151594878975014, 0.6130848798046576, 0.6146315506595649]"
      ]
     },
     "execution_count": 62,
     "metadata": {},
     "output_type": "execute_result"
    }
   ],
   "source": [
    "test_rmse_values = []\n",
    "for fold in range(5):\n",
    "    # Select test set\n",
    "    test_set = dfs[fold]\n",
    "    train_dfs = [x for i,x in enumerate(dfs) if i!=fold]\n",
    "    train_set = pd.concat(train_dfs)\n",
    "    \n",
    "    train_util = ESVD.generate_utility_matrix(train_set)\n",
    "    test_util = ESVD.generate_utility_matrix(test_set)\n",
    "    \n",
    "    train_util, test_util = ESVD.transform_train_test(train_util, test_util)\n",
    "    \n",
    "    _, u_w, v_w, loss_h = train_rmse(train_util, learning_rate=0.0001)\n",
    "    \n",
    "    pred = np.zeros(test_util.shape)\n",
    "    for i in range(pred.shape[0]):\n",
    "        for j in range(pred.shape[0]):\n",
    "            pred[i,j] = np.abs(u_w[i,:] @ v_w.T[:,j])\n",
    "            \n",
    "    cal_rmse = ESVD.rmse(test_util, pred)\n",
    "    \n",
    "    test_rmse_values.append(cal_rmse)\n",
    "    print(\"Fold {fold} RMSE: {rmse}\".format(fold=fold, rmse=cal_rmse))\n",
    "print(\"Average RMSE:\", np.mean(test_rmse_values))\n",
    "test_rmse_values"
   ]
  },
  {
   "cell_type": "code",
   "execution_count": 55,
   "id": "2984bd63-0fa6-4701-a329-ba8eefa7cbc0",
   "metadata": {},
   "outputs": [],
   "source": [
    "pred = np.zeros(test_util.shape)\n",
    "for i in range(pred.shape[0]):\n",
    "    for j in range(pred.shape[0]):\n",
    "        pred[i,j] = np.abs(u_w[i,:] @ v_w.T[:,j])"
   ]
  },
  {
   "cell_type": "code",
   "execution_count": 56,
   "id": "cb2598cd-b2df-4872-a872-5f3eb3bfe519",
   "metadata": {},
   "outputs": [
    {
     "data": {
      "text/plain": [
       "array([[2.6580155 , 1.24774792, 0.97134824, ..., 0.        , 0.        ,\n",
       "        0.        ],\n",
       "       [1.33757816, 0.62789715, 0.4888061 , ..., 0.        , 0.        ,\n",
       "        0.        ],\n",
       "       [1.10041926, 0.51656803, 0.40213848, ..., 0.        , 0.        ,\n",
       "        0.        ],\n",
       "       ...,\n",
       "       [1.06040876, 0.49778597, 0.38751699, ..., 0.        , 0.        ,\n",
       "        0.        ],\n",
       "       [1.60402192, 0.75297341, 0.58617561, ..., 0.        , 0.        ,\n",
       "        0.        ],\n",
       "       [2.09614693, 0.98399086, 0.76601834, ..., 0.        , 0.        ,\n",
       "        0.        ]])"
      ]
     },
     "execution_count": 56,
     "metadata": {},
     "output_type": "execute_result"
    }
   ],
   "source": [
    "pred"
   ]
  },
  {
   "cell_type": "code",
   "execution_count": 57,
   "id": "f715b6ab-ae4d-4ba0-8de8-865f424fd490",
   "metadata": {},
   "outputs": [
    {
     "data": {
      "text/plain": [
       "array([[0., 3., 4., ..., 0., 0., 0.],\n",
       "       [0., 0., 0., ..., 0., 0., 0.],\n",
       "       [0., 0., 0., ..., 0., 0., 0.],\n",
       "       ...,\n",
       "       [0., 0., 0., ..., 0., 0., 0.],\n",
       "       [0., 0., 0., ..., 0., 0., 0.],\n",
       "       [0., 0., 0., ..., 0., 0., 0.]])"
      ]
     },
     "execution_count": 57,
     "metadata": {},
     "output_type": "execute_result"
    }
   ],
   "source": [
    "test_util"
   ]
  },
  {
   "cell_type": "code",
   "execution_count": 58,
   "id": "ac48ebf9-de05-49cd-b70d-a73a1f892f25",
   "metadata": {},
   "outputs": [
    {
     "data": {
      "image/png": "[encoded data removed]",
      "text/latex": [
       "$\\displaystyle 0.6164668236325$"
      ],
      "text/plain": [
       "0.6164668236325002"
      ]
     },
     "execution_count": 58,
     "metadata": {},
     "output_type": "execute_result"
    }
   ],
   "source": [
    "ESVD.rmse(test_util, pred)"
   ]
  },
  {
   "cell_type": "code",
   "execution_count": 64,
   "id": "57d4bd1e-a274-4b1b-b63a-adc40b9515cd",
   "metadata": {},
   "outputs": [
    {
     "data": {
      "text/plain": [
       "Text(0.5, 1.0, 'UVD-GD Training RMSE')"
      ]
     },
     "execution_count": 64,
     "metadata": {},
     "output_type": "execute_result"
    },
    {
     "data": {
      "image/png": "[encoded data removed]",
      "text/plain": [
       "<Figure size 640x480 with 1 Axes>"
      ]
     },
     "metadata": {},
     "output_type": "display_data"
    }
   ],
   "source": [
    "plt.plot(loss_h)\n",
    "plt.xlabel(\"Epoch\")\n",
    "plt.ylabel(\"RMSE\")\n",
    "plt.title(\"UVD-GD Training RMSE\")"
   ]
  }
 ],
 "metadata": {
  "kernelspec": {
   "display_name": "Python 3 (ipykernel)",
   "language": "python",
   "name": "python3"
  },
  "language_info": {
   "codemirror_mode": {
    "name": "ipython",
    "version": 3
   },
   "file_extension": ".py",
   "mimetype": "text/x-python",
   "name": "python",
   "nbconvert_exporter": "python",
   "pygments_lexer": "ipython3",
   "version": "3.9.13"
  }
 },
 "nbformat": 4,
 "nbformat_minor": 5
}
